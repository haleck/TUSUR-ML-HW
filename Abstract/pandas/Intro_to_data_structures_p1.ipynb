{
 "cells": [
  {
   "cell_type": "markdown",
   "source": [
    "# Intro to data structures"
   ],
   "metadata": {
    "collapsed": false
   }
  },
  {
   "cell_type": "code",
   "execution_count": 2,
   "outputs": [],
   "source": [
    "import numpy as np\n",
    "import pandas as pd"
   ],
   "metadata": {
    "collapsed": false
   }
  },
  {
   "cell_type": "markdown",
   "source": [
    "# Series\n",
    "Серии - это 1-мерный проименнованный массив, с одним типом данных. Является расширением np.array.\n",
    "Индексы это метки (labels)\n",
    "Может создаваться из:"
   ],
   "metadata": {
    "collapsed": false
   }
  },
  {
   "cell_type": "code",
   "execution_count": 26,
   "outputs": [
    {
     "name": "stdout",
     "output_type": "stream",
     "text": [
      "a   -0.976909\n",
      "b    0.835328\n",
      "c    0.423344\n",
      "d    0.909003\n",
      "e    0.420183\n",
      "dtype: float64\n",
      "\n",
      "a    10\n",
      "b    20\n",
      "c    30\n",
      "dtype: int64\n",
      "\n",
      "3    5\n",
      "2    5\n",
      "7    5\n",
      "dtype: int64\n"
     ]
    }
   ],
   "source": [
    "# ndarray\n",
    "s1 = pd.Series(np.random.randn(5), index=[\"a\", \"b\", \"c\", \"d\", \"e\"])\n",
    "\n",
    "# Словарей\n",
    "s2 = pd.Series({'a': 10, 'b': 20, 'c': 30})\n",
    "\n",
    "# Скаляров\n",
    "s3 = pd.Series(5, index=[3, 2, 7])\n",
    "\n",
    "print(s1, '\\n\\n', s2, '\\n\\n', s3, sep='')"
   ],
   "metadata": {
    "collapsed": false
   }
  },
  {
   "cell_type": "markdown",
   "source": [
    "При этом поддерживаются неуникальные значения индексов. При обращении будет выброшена ошибка KeyError"
   ],
   "metadata": {
    "collapsed": false
   }
  },
  {
   "cell_type": "code",
   "execution_count": 6,
   "outputs": [
    {
     "ename": "KeyError",
     "evalue": "\"None of [Float64Index([-1.4380902747731994, -0.07748790730810533, 0.2645366286493213], dtype='float64')] are in the [index]\"",
     "output_type": "error",
     "traceback": [
      "\u001B[1;31m---------------------------------------------------------------------------\u001B[0m",
      "\u001B[1;31mKeyError\u001B[0m                                  Traceback (most recent call last)",
      "Cell \u001B[1;32mIn [6], line 2\u001B[0m\n\u001B[0;32m      1\u001B[0m a \u001B[38;5;241m=\u001B[39m pd\u001B[38;5;241m.\u001B[39mSeries(np\u001B[38;5;241m.\u001B[39mrandom\u001B[38;5;241m.\u001B[39mrandn(\u001B[38;5;241m3\u001B[39m), index\u001B[38;5;241m=\u001B[39m[\u001B[38;5;124m'\u001B[39m\u001B[38;5;124ma\u001B[39m\u001B[38;5;124m'\u001B[39m, \u001B[38;5;124m'\u001B[39m\u001B[38;5;124ma\u001B[39m\u001B[38;5;124m'\u001B[39m, \u001B[38;5;124m'\u001B[39m\u001B[38;5;124mb\u001B[39m\u001B[38;5;124m'\u001B[39m])\n\u001B[1;32m----> 2\u001B[0m \u001B[43ma\u001B[49m\u001B[43m[\u001B[49m\u001B[43ma\u001B[49m\u001B[43m]\u001B[49m\n",
      "File \u001B[1;32mD:\\Anaconda\\envs\\workspace\\lib\\site-packages\\pandas\\core\\series.py:1007\u001B[0m, in \u001B[0;36mSeries.__getitem__\u001B[1;34m(self, key)\u001B[0m\n\u001B[0;32m   1004\u001B[0m     key \u001B[38;5;241m=\u001B[39m np\u001B[38;5;241m.\u001B[39masarray(key, dtype\u001B[38;5;241m=\u001B[39m\u001B[38;5;28mbool\u001B[39m)\n\u001B[0;32m   1005\u001B[0m     \u001B[38;5;28;01mreturn\u001B[39;00m \u001B[38;5;28mself\u001B[39m\u001B[38;5;241m.\u001B[39m_get_values(key)\n\u001B[1;32m-> 1007\u001B[0m \u001B[38;5;28;01mreturn\u001B[39;00m \u001B[38;5;28;43mself\u001B[39;49m\u001B[38;5;241;43m.\u001B[39;49m\u001B[43m_get_with\u001B[49m\u001B[43m(\u001B[49m\u001B[43mkey\u001B[49m\u001B[43m)\u001B[49m\n",
      "File \u001B[1;32mD:\\Anaconda\\envs\\workspace\\lib\\site-packages\\pandas\\core\\series.py:1047\u001B[0m, in \u001B[0;36mSeries._get_with\u001B[1;34m(self, key)\u001B[0m\n\u001B[0;32m   1044\u001B[0m         \u001B[38;5;28;01mreturn\u001B[39;00m \u001B[38;5;28mself\u001B[39m\u001B[38;5;241m.\u001B[39miloc[key]\n\u001B[0;32m   1046\u001B[0m \u001B[38;5;66;03m# handle the dup indexing case GH#4246\u001B[39;00m\n\u001B[1;32m-> 1047\u001B[0m \u001B[38;5;28;01mreturn\u001B[39;00m \u001B[38;5;28;43mself\u001B[39;49m\u001B[38;5;241;43m.\u001B[39;49m\u001B[43mloc\u001B[49m\u001B[43m[\u001B[49m\u001B[43mkey\u001B[49m\u001B[43m]\u001B[49m\n",
      "File \u001B[1;32mD:\\Anaconda\\envs\\workspace\\lib\\site-packages\\pandas\\core\\indexing.py:1073\u001B[0m, in \u001B[0;36m_LocationIndexer.__getitem__\u001B[1;34m(self, key)\u001B[0m\n\u001B[0;32m   1070\u001B[0m axis \u001B[38;5;241m=\u001B[39m \u001B[38;5;28mself\u001B[39m\u001B[38;5;241m.\u001B[39maxis \u001B[38;5;129;01mor\u001B[39;00m \u001B[38;5;241m0\u001B[39m\n\u001B[0;32m   1072\u001B[0m maybe_callable \u001B[38;5;241m=\u001B[39m com\u001B[38;5;241m.\u001B[39mapply_if_callable(key, \u001B[38;5;28mself\u001B[39m\u001B[38;5;241m.\u001B[39mobj)\n\u001B[1;32m-> 1073\u001B[0m \u001B[38;5;28;01mreturn\u001B[39;00m \u001B[38;5;28;43mself\u001B[39;49m\u001B[38;5;241;43m.\u001B[39;49m\u001B[43m_getitem_axis\u001B[49m\u001B[43m(\u001B[49m\u001B[43mmaybe_callable\u001B[49m\u001B[43m,\u001B[49m\u001B[43m \u001B[49m\u001B[43maxis\u001B[49m\u001B[38;5;241;43m=\u001B[39;49m\u001B[43maxis\u001B[49m\u001B[43m)\u001B[49m\n",
      "File \u001B[1;32mD:\\Anaconda\\envs\\workspace\\lib\\site-packages\\pandas\\core\\indexing.py:1301\u001B[0m, in \u001B[0;36m_LocIndexer._getitem_axis\u001B[1;34m(self, key, axis)\u001B[0m\n\u001B[0;32m   1298\u001B[0m     \u001B[38;5;28;01mif\u001B[39;00m \u001B[38;5;28mhasattr\u001B[39m(key, \u001B[38;5;124m\"\u001B[39m\u001B[38;5;124mndim\u001B[39m\u001B[38;5;124m\"\u001B[39m) \u001B[38;5;129;01mand\u001B[39;00m key\u001B[38;5;241m.\u001B[39mndim \u001B[38;5;241m>\u001B[39m \u001B[38;5;241m1\u001B[39m:\n\u001B[0;32m   1299\u001B[0m         \u001B[38;5;28;01mraise\u001B[39;00m \u001B[38;5;167;01mValueError\u001B[39;00m(\u001B[38;5;124m\"\u001B[39m\u001B[38;5;124mCannot index with multidimensional key\u001B[39m\u001B[38;5;124m\"\u001B[39m)\n\u001B[1;32m-> 1301\u001B[0m     \u001B[38;5;28;01mreturn\u001B[39;00m \u001B[38;5;28;43mself\u001B[39;49m\u001B[38;5;241;43m.\u001B[39;49m\u001B[43m_getitem_iterable\u001B[49m\u001B[43m(\u001B[49m\u001B[43mkey\u001B[49m\u001B[43m,\u001B[49m\u001B[43m \u001B[49m\u001B[43maxis\u001B[49m\u001B[38;5;241;43m=\u001B[39;49m\u001B[43maxis\u001B[49m\u001B[43m)\u001B[49m\n\u001B[0;32m   1303\u001B[0m \u001B[38;5;66;03m# nested tuple slicing\u001B[39;00m\n\u001B[0;32m   1304\u001B[0m \u001B[38;5;28;01mif\u001B[39;00m is_nested_tuple(key, labels):\n",
      "File \u001B[1;32mD:\\Anaconda\\envs\\workspace\\lib\\site-packages\\pandas\\core\\indexing.py:1239\u001B[0m, in \u001B[0;36m_LocIndexer._getitem_iterable\u001B[1;34m(self, key, axis)\u001B[0m\n\u001B[0;32m   1236\u001B[0m \u001B[38;5;28mself\u001B[39m\u001B[38;5;241m.\u001B[39m_validate_key(key, axis)\n\u001B[0;32m   1238\u001B[0m \u001B[38;5;66;03m# A collection of keys\u001B[39;00m\n\u001B[1;32m-> 1239\u001B[0m keyarr, indexer \u001B[38;5;241m=\u001B[39m \u001B[38;5;28;43mself\u001B[39;49m\u001B[38;5;241;43m.\u001B[39;49m\u001B[43m_get_listlike_indexer\u001B[49m\u001B[43m(\u001B[49m\u001B[43mkey\u001B[49m\u001B[43m,\u001B[49m\u001B[43m \u001B[49m\u001B[43maxis\u001B[49m\u001B[43m)\u001B[49m\n\u001B[0;32m   1240\u001B[0m \u001B[38;5;28;01mreturn\u001B[39;00m \u001B[38;5;28mself\u001B[39m\u001B[38;5;241m.\u001B[39mobj\u001B[38;5;241m.\u001B[39m_reindex_with_indexers(\n\u001B[0;32m   1241\u001B[0m     {axis: [keyarr, indexer]}, copy\u001B[38;5;241m=\u001B[39m\u001B[38;5;28;01mTrue\u001B[39;00m, allow_dups\u001B[38;5;241m=\u001B[39m\u001B[38;5;28;01mTrue\u001B[39;00m\n\u001B[0;32m   1242\u001B[0m )\n",
      "File \u001B[1;32mD:\\Anaconda\\envs\\workspace\\lib\\site-packages\\pandas\\core\\indexing.py:1432\u001B[0m, in \u001B[0;36m_LocIndexer._get_listlike_indexer\u001B[1;34m(self, key, axis)\u001B[0m\n\u001B[0;32m   1429\u001B[0m ax \u001B[38;5;241m=\u001B[39m \u001B[38;5;28mself\u001B[39m\u001B[38;5;241m.\u001B[39mobj\u001B[38;5;241m.\u001B[39m_get_axis(axis)\n\u001B[0;32m   1430\u001B[0m axis_name \u001B[38;5;241m=\u001B[39m \u001B[38;5;28mself\u001B[39m\u001B[38;5;241m.\u001B[39mobj\u001B[38;5;241m.\u001B[39m_get_axis_name(axis)\n\u001B[1;32m-> 1432\u001B[0m keyarr, indexer \u001B[38;5;241m=\u001B[39m \u001B[43max\u001B[49m\u001B[38;5;241;43m.\u001B[39;49m\u001B[43m_get_indexer_strict\u001B[49m\u001B[43m(\u001B[49m\u001B[43mkey\u001B[49m\u001B[43m,\u001B[49m\u001B[43m \u001B[49m\u001B[43maxis_name\u001B[49m\u001B[43m)\u001B[49m\n\u001B[0;32m   1434\u001B[0m \u001B[38;5;28;01mreturn\u001B[39;00m keyarr, indexer\n",
      "File \u001B[1;32mD:\\Anaconda\\envs\\workspace\\lib\\site-packages\\pandas\\core\\indexes\\base.py:6111\u001B[0m, in \u001B[0;36mIndex._get_indexer_strict\u001B[1;34m(self, key, axis_name)\u001B[0m\n\u001B[0;32m   6108\u001B[0m \u001B[38;5;28;01melse\u001B[39;00m:\n\u001B[0;32m   6109\u001B[0m     keyarr, indexer, new_indexer \u001B[38;5;241m=\u001B[39m \u001B[38;5;28mself\u001B[39m\u001B[38;5;241m.\u001B[39m_reindex_non_unique(keyarr)\n\u001B[1;32m-> 6111\u001B[0m \u001B[38;5;28;43mself\u001B[39;49m\u001B[38;5;241;43m.\u001B[39;49m\u001B[43m_raise_if_missing\u001B[49m\u001B[43m(\u001B[49m\u001B[43mkeyarr\u001B[49m\u001B[43m,\u001B[49m\u001B[43m \u001B[49m\u001B[43mindexer\u001B[49m\u001B[43m,\u001B[49m\u001B[43m \u001B[49m\u001B[43maxis_name\u001B[49m\u001B[43m)\u001B[49m\n\u001B[0;32m   6113\u001B[0m keyarr \u001B[38;5;241m=\u001B[39m \u001B[38;5;28mself\u001B[39m\u001B[38;5;241m.\u001B[39mtake(indexer)\n\u001B[0;32m   6114\u001B[0m \u001B[38;5;28;01mif\u001B[39;00m \u001B[38;5;28misinstance\u001B[39m(key, Index):\n\u001B[0;32m   6115\u001B[0m     \u001B[38;5;66;03m# GH 42790 - Preserve name from an Index\u001B[39;00m\n",
      "File \u001B[1;32mD:\\Anaconda\\envs\\workspace\\lib\\site-packages\\pandas\\core\\indexes\\base.py:6171\u001B[0m, in \u001B[0;36mIndex._raise_if_missing\u001B[1;34m(self, key, indexer, axis_name)\u001B[0m\n\u001B[0;32m   6169\u001B[0m     \u001B[38;5;28;01mif\u001B[39;00m use_interval_msg:\n\u001B[0;32m   6170\u001B[0m         key \u001B[38;5;241m=\u001B[39m \u001B[38;5;28mlist\u001B[39m(key)\n\u001B[1;32m-> 6171\u001B[0m     \u001B[38;5;28;01mraise\u001B[39;00m \u001B[38;5;167;01mKeyError\u001B[39;00m(\u001B[38;5;124mf\u001B[39m\u001B[38;5;124m\"\u001B[39m\u001B[38;5;124mNone of [\u001B[39m\u001B[38;5;132;01m{\u001B[39;00mkey\u001B[38;5;132;01m}\u001B[39;00m\u001B[38;5;124m] are in the [\u001B[39m\u001B[38;5;132;01m{\u001B[39;00maxis_name\u001B[38;5;132;01m}\u001B[39;00m\u001B[38;5;124m]\u001B[39m\u001B[38;5;124m\"\u001B[39m)\n\u001B[0;32m   6173\u001B[0m not_found \u001B[38;5;241m=\u001B[39m \u001B[38;5;28mlist\u001B[39m(ensure_index(key)[missing_mask\u001B[38;5;241m.\u001B[39mnonzero()[\u001B[38;5;241m0\u001B[39m]]\u001B[38;5;241m.\u001B[39munique())\n\u001B[0;32m   6174\u001B[0m \u001B[38;5;28;01mraise\u001B[39;00m \u001B[38;5;167;01mKeyError\u001B[39;00m(\u001B[38;5;124mf\u001B[39m\u001B[38;5;124m\"\u001B[39m\u001B[38;5;132;01m{\u001B[39;00mnot_found\u001B[38;5;132;01m}\u001B[39;00m\u001B[38;5;124m not in index\u001B[39m\u001B[38;5;124m\"\u001B[39m)\n",
      "\u001B[1;31mKeyError\u001B[0m: \"None of [Float64Index([-1.4380902747731994, -0.07748790730810533, 0.2645366286493213], dtype='float64')] are in the [index]\""
     ]
    }
   ],
   "source": [
    "a = pd.Series(np.random.randn(3), index=['a', 'a', 'b'])\n",
    "a[a]"
   ],
   "metadata": {
    "collapsed": false
   }
  },
  {
   "cell_type": "markdown",
   "source": [
    "Серии в основном ведут себя так же, как и массивы numpy"
   ],
   "metadata": {
    "collapsed": false
   }
  },
  {
   "cell_type": "code",
   "execution_count": 14,
   "outputs": [
    {
     "data": {
      "text/plain": "-1.5066776131646245"
     },
     "execution_count": 14,
     "metadata": {},
     "output_type": "execute_result"
    }
   ],
   "source": [
    "s1[0]"
   ],
   "metadata": {
    "collapsed": false
   }
  },
  {
   "cell_type": "code",
   "execution_count": 15,
   "outputs": [
    {
     "data": {
      "text/plain": "b    0.931368\nc   -0.028896\nd   -0.710738\ndtype: float64"
     },
     "execution_count": 15,
     "metadata": {},
     "output_type": "execute_result"
    }
   ],
   "source": [
    "s1[1:-1]"
   ],
   "metadata": {
    "collapsed": false
   }
  },
  {
   "cell_type": "code",
   "execution_count": 17,
   "outputs": [
    {
     "data": {
      "text/plain": "b    0.931368\nb    0.931368\ne    0.959306\ndtype: float64"
     },
     "execution_count": 17,
     "metadata": {},
     "output_type": "execute_result"
    }
   ],
   "source": [
    "s1[[1, 1, 4]]"
   ],
   "metadata": {
    "collapsed": false
   }
  },
  {
   "cell_type": "code",
   "execution_count": 18,
   "outputs": [
    {
     "data": {
      "text/plain": "a    1.493322\nb    3.931368\nc    2.971104\nd    2.289262\ne    3.959306\ndtype: float64"
     },
     "execution_count": 18,
     "metadata": {},
     "output_type": "execute_result"
    }
   ],
   "source": [
    "s1 + 3"
   ],
   "metadata": {
    "collapsed": false
   }
  },
  {
   "cell_type": "markdown",
   "source": [
    "Можно получить массив без меток, при помощи поля array\n",
    "Можно преобразовать в массив numpy при помощи метода to_numpy"
   ],
   "metadata": {
    "collapsed": false
   }
  },
  {
   "cell_type": "markdown",
   "source": [
    "У серий работают многие из методов словарей, обращение происходит по меткам"
   ],
   "metadata": {
    "collapsed": false
   }
  },
  {
   "cell_type": "code",
   "execution_count": 21,
   "outputs": [
    {
     "name": "stdout",
     "output_type": "stream",
     "text": [
      "True\n",
      "0.9313682821886341\n"
     ]
    }
   ],
   "source": [
    "print('a' in s1)\n",
    "print(s1['b'])"
   ],
   "metadata": {
    "collapsed": false
   }
  },
  {
   "cell_type": "markdown",
   "source": [
    "При помощи метода get можно задать значение, которое будет возвращено, при отсутствии данных."
   ],
   "metadata": {
    "collapsed": false
   }
  },
  {
   "cell_type": "code",
   "execution_count": 22,
   "outputs": [
    {
     "data": {
      "text/plain": "True"
     },
     "execution_count": 22,
     "metadata": {},
     "output_type": "execute_result"
    }
   ],
   "source": [
    "s1.get('k', True)"
   ],
   "metadata": {
    "collapsed": false
   }
  },
  {
   "cell_type": "markdown",
   "source": [
    "Опреации серии с серией будут происходить по меткам серий. При несовпадении меток, будет выдано NaN"
   ],
   "metadata": {
    "collapsed": false
   }
  },
  {
   "cell_type": "code",
   "execution_count": 23,
   "outputs": [
    {
     "data": {
      "text/plain": "a   -11.506678\nb   -19.068632\nc   -30.028896\nd          NaN\ne          NaN\ndtype: float64"
     },
     "execution_count": 23,
     "metadata": {},
     "output_type": "execute_result"
    }
   ],
   "source": [
    "s1 - s2"
   ],
   "metadata": {
    "collapsed": false
   }
  },
  {
   "cell_type": "code",
   "execution_count": 24,
   "outputs": [
    {
     "data": {
      "text/plain": "2   NaN\n3   NaN\n7   NaN\na   NaN\nb   NaN\nc   NaN\nd   NaN\ne   NaN\ndtype: float64"
     },
     "execution_count": 24,
     "metadata": {},
     "output_type": "execute_result"
    }
   ],
   "source": [
    "s1 - s3"
   ],
   "metadata": {
    "collapsed": false
   }
  },
  {
   "cell_type": "markdown",
   "source": [
    "У серий есть атрибут name, по стандарту пустой. При изменении имени будет создан новый объект."
   ],
   "metadata": {
    "collapsed": false
   }
  },
  {
   "cell_type": "code",
   "execution_count": 32,
   "outputs": [
    {
     "data": {
      "text/plain": "'adfsd'"
     },
     "execution_count": 32,
     "metadata": {},
     "output_type": "execute_result"
    }
   ],
   "source": [
    "s1.name = 'adfsd'\n",
    "s1.name"
   ],
   "metadata": {
    "collapsed": false
   }
  },
  {
   "cell_type": "markdown",
   "source": [
    "# DataFrame"
   ],
   "metadata": {
    "collapsed": false
   }
  },
  {
   "cell_type": "markdown",
   "source": [
    "Это двумерный массив с потенциально разными колонками, состоящий из Series.\n",
    "Можно создать из:\n",
    "\n",
    "-Словарь одномерных ndarray, lists, dicts, Series\n",
    "-Двумерный массив numpy\n",
    "-Структурированный ndarray\n",
    "-Серии, в этом случае за колонку будут взяты имена серий либо range(n)\n",
    "-Другого dataframe, в таком случае можно выбрать какие колонки или столбцы нужно взять\n",
    "-Список словарей\n",
    "-Список кортежей\n",
    "-Список именованных кортежей\n",
    "-Из датакласса"
   ],
   "metadata": {
    "collapsed": false
   }
  },
  {
   "cell_type": "code",
   "execution_count": 93,
   "outputs": [
    {
     "data": {
      "text/plain": "   Column 1  Column 2\na -0.976909      10.0\nb  0.835328      20.0\nc  0.423344      30.0\nd  0.909003       NaN\ne  0.420183       NaN",
      "text/html": "<div>\n<style scoped>\n    .dataframe tbody tr th:only-of-type {\n        vertical-align: middle;\n    }\n\n    .dataframe tbody tr th {\n        vertical-align: top;\n    }\n\n    .dataframe thead th {\n        text-align: right;\n    }\n</style>\n<table border=\"1\" class=\"dataframe\">\n  <thead>\n    <tr style=\"text-align: right;\">\n      <th></th>\n      <th>Column 1</th>\n      <th>Column 2</th>\n    </tr>\n  </thead>\n  <tbody>\n    <tr>\n      <th>a</th>\n      <td>-0.976909</td>\n      <td>10.0</td>\n    </tr>\n    <tr>\n      <th>b</th>\n      <td>0.835328</td>\n      <td>20.0</td>\n    </tr>\n    <tr>\n      <th>c</th>\n      <td>0.423344</td>\n      <td>30.0</td>\n    </tr>\n    <tr>\n      <th>d</th>\n      <td>0.909003</td>\n      <td>NaN</td>\n    </tr>\n    <tr>\n      <th>e</th>\n      <td>0.420183</td>\n      <td>NaN</td>\n    </tr>\n  </tbody>\n</table>\n</div>"
     },
     "execution_count": 93,
     "metadata": {},
     "output_type": "execute_result"
    }
   ],
   "source": [
    "# Словарь одномерных ndarray, lists, dicts, Series\n",
    "s11 = pd.DataFrame({'Column 1':s1, 'Column 2':s2})\n",
    "s11.name = 'First DF'\n",
    "s11"
   ],
   "metadata": {
    "collapsed": false
   }
  },
  {
   "cell_type": "code",
   "execution_count": 89,
   "outputs": [
    {
     "data": {
      "text/plain": "          one       two       one       two\none  0.456155  0.361300  0.667272  0.878643\ntwo  0.932005  0.083074  0.159094  0.865084\none  0.462722  0.688861  0.470734  0.422835\ntwo  0.277556  0.657238  0.405902  0.735972\none  0.266648  0.316000  0.239279  0.543339\ntwo  0.578348  0.168526  0.004558  0.419015\none  0.486370  0.567445  0.923302  0.680375\ntwo  0.306621  0.950531  0.263832  0.338007\none  0.232934  0.960394  0.720431  0.459186\ntwo  0.341859  0.766155  0.786840  0.289742",
      "text/html": "<div>\n<style scoped>\n    .dataframe tbody tr th:only-of-type {\n        vertical-align: middle;\n    }\n\n    .dataframe tbody tr th {\n        vertical-align: top;\n    }\n\n    .dataframe thead th {\n        text-align: right;\n    }\n</style>\n<table border=\"1\" class=\"dataframe\">\n  <thead>\n    <tr style=\"text-align: right;\">\n      <th></th>\n      <th>one</th>\n      <th>two</th>\n      <th>one</th>\n      <th>two</th>\n    </tr>\n  </thead>\n  <tbody>\n    <tr>\n      <th>one</th>\n      <td>0.456155</td>\n      <td>0.361300</td>\n      <td>0.667272</td>\n      <td>0.878643</td>\n    </tr>\n    <tr>\n      <th>two</th>\n      <td>0.932005</td>\n      <td>0.083074</td>\n      <td>0.159094</td>\n      <td>0.865084</td>\n    </tr>\n    <tr>\n      <th>one</th>\n      <td>0.462722</td>\n      <td>0.688861</td>\n      <td>0.470734</td>\n      <td>0.422835</td>\n    </tr>\n    <tr>\n      <th>two</th>\n      <td>0.277556</td>\n      <td>0.657238</td>\n      <td>0.405902</td>\n      <td>0.735972</td>\n    </tr>\n    <tr>\n      <th>one</th>\n      <td>0.266648</td>\n      <td>0.316000</td>\n      <td>0.239279</td>\n      <td>0.543339</td>\n    </tr>\n    <tr>\n      <th>two</th>\n      <td>0.578348</td>\n      <td>0.168526</td>\n      <td>0.004558</td>\n      <td>0.419015</td>\n    </tr>\n    <tr>\n      <th>one</th>\n      <td>0.486370</td>\n      <td>0.567445</td>\n      <td>0.923302</td>\n      <td>0.680375</td>\n    </tr>\n    <tr>\n      <th>two</th>\n      <td>0.306621</td>\n      <td>0.950531</td>\n      <td>0.263832</td>\n      <td>0.338007</td>\n    </tr>\n    <tr>\n      <th>one</th>\n      <td>0.232934</td>\n      <td>0.960394</td>\n      <td>0.720431</td>\n      <td>0.459186</td>\n    </tr>\n    <tr>\n      <th>two</th>\n      <td>0.341859</td>\n      <td>0.766155</td>\n      <td>0.786840</td>\n      <td>0.289742</td>\n    </tr>\n  </tbody>\n</table>\n</div>"
     },
     "execution_count": 89,
     "metadata": {},
     "output_type": "execute_result"
    }
   ],
   "source": [
    "# Двумерный массив numpy\n",
    "np_2d_array = np.random.random((10,4))\n",
    "s22 = pd.DataFrame(np_2d_array, columns=['one', 'two']*2, index=['one', 'two']*5)\n",
    "s22"
   ],
   "metadata": {
    "collapsed": false
   }
  },
  {
   "cell_type": "code",
   "execution_count": 90,
   "outputs": [
    {
     "data": {
      "text/plain": "   name  age  weight\n0   Rex    9    81.0\n1  Fido    3    27.0",
      "text/html": "<div>\n<style scoped>\n    .dataframe tbody tr th:only-of-type {\n        vertical-align: middle;\n    }\n\n    .dataframe tbody tr th {\n        vertical-align: top;\n    }\n\n    .dataframe thead th {\n        text-align: right;\n    }\n</style>\n<table border=\"1\" class=\"dataframe\">\n  <thead>\n    <tr style=\"text-align: right;\">\n      <th></th>\n      <th>name</th>\n      <th>age</th>\n      <th>weight</th>\n    </tr>\n  </thead>\n  <tbody>\n    <tr>\n      <th>0</th>\n      <td>Rex</td>\n      <td>9</td>\n      <td>81.0</td>\n    </tr>\n    <tr>\n      <th>1</th>\n      <td>Fido</td>\n      <td>3</td>\n      <td>27.0</td>\n    </tr>\n  </tbody>\n</table>\n</div>"
     },
     "execution_count": 90,
     "metadata": {},
     "output_type": "execute_result"
    }
   ],
   "source": [
    "# Структурированный ndarray\n",
    "np_struct_array = np.array([('Rex', 9, 81.0), ('Fido', 3, 27.0)],\n",
    "                           dtype=[('name', 'U10'), ('age', 'i4'), ('weight', 'f4')])\n",
    "s33 =pd.DataFrame(np_struct_array)\n",
    "s33"
   ],
   "metadata": {
    "collapsed": false
   }
  },
  {
   "cell_type": "code",
   "execution_count": 92,
   "outputs": [
    {
     "data": {
      "text/plain": "      adfsd\na -0.976909\nb  0.835328\nc  0.423344\nd  0.909003\ne  0.420183",
      "text/html": "<div>\n<style scoped>\n    .dataframe tbody tr th:only-of-type {\n        vertical-align: middle;\n    }\n\n    .dataframe tbody tr th {\n        vertical-align: top;\n    }\n\n    .dataframe thead th {\n        text-align: right;\n    }\n</style>\n<table border=\"1\" class=\"dataframe\">\n  <thead>\n    <tr style=\"text-align: right;\">\n      <th></th>\n      <th>adfsd</th>\n    </tr>\n  </thead>\n  <tbody>\n    <tr>\n      <th>a</th>\n      <td>-0.976909</td>\n    </tr>\n    <tr>\n      <th>b</th>\n      <td>0.835328</td>\n    </tr>\n    <tr>\n      <th>c</th>\n      <td>0.423344</td>\n    </tr>\n    <tr>\n      <th>d</th>\n      <td>0.909003</td>\n    </tr>\n    <tr>\n      <th>e</th>\n      <td>0.420183</td>\n    </tr>\n  </tbody>\n</table>\n</div>"
     },
     "execution_count": 92,
     "metadata": {},
     "output_type": "execute_result"
    }
   ],
   "source": [
    "# Серии, в этом случае за колонку будут взяты имена серий либо range(n)\n",
    "s44 = pd.DataFrame(s1)\n",
    "s44"
   ],
   "metadata": {
    "collapsed": false
   }
  },
  {
   "cell_type": "code",
   "execution_count": 91,
   "outputs": [
    {
     "data": {
      "text/plain": "   name  age\n1  Fido    3",
      "text/html": "<div>\n<style scoped>\n    .dataframe tbody tr th:only-of-type {\n        vertical-align: middle;\n    }\n\n    .dataframe tbody tr th {\n        vertical-align: top;\n    }\n\n    .dataframe thead th {\n        text-align: right;\n    }\n</style>\n<table border=\"1\" class=\"dataframe\">\n  <thead>\n    <tr style=\"text-align: right;\">\n      <th></th>\n      <th>name</th>\n      <th>age</th>\n    </tr>\n  </thead>\n  <tbody>\n    <tr>\n      <th>1</th>\n      <td>Fido</td>\n      <td>3</td>\n    </tr>\n  </tbody>\n</table>\n</div>"
     },
     "execution_count": 91,
     "metadata": {},
     "output_type": "execute_result"
    }
   ],
   "source": [
    "# Другого dataframe, в таком случае можно выбрать какие колонки или столбцы нужно взять\n",
    "s55 = pd.DataFrame(s33, columns=['name', 'age'], index=[1])\n",
    "s55"
   ],
   "metadata": {
    "collapsed": false
   }
  },
  {
   "cell_type": "markdown",
   "source": [
    "Так же:"
   ],
   "metadata": {
    "collapsed": false
   }
  },
  {
   "cell_type": "code",
   "execution_count": 87,
   "outputs": [
    {
     "name": "stdout",
     "output_type": "stream",
     "text": [
      "   a   b     c\n",
      "0  1   2   NaN\n",
      "1  5  10  20.0\n",
      "\n",
      "        a   b     c\n",
      "first   1   2   NaN\n",
      "second  5  10  20.0\n",
      "\n",
      "   a   b\n",
      "0  1   2\n",
      "1  5  10\n",
      "\n"
     ]
    }
   ],
   "source": [
    "# Список словарей\n",
    "data2 = [{\"a\": 1, \"b\": 2}, {\"a\": 5, \"b\": 10, \"c\": 20}]\n",
    "print(pd.DataFrame(data2), end='\\n\\n')\n",
    "print(pd.DataFrame(data2, index=[\"first\", \"second\"]), end='\\n\\n')\n",
    "print(pd.DataFrame(data2, columns=[\"a\", \"b\"]), end='\\n\\n')"
   ],
   "metadata": {
    "collapsed": false
   }
  },
  {
   "cell_type": "code",
   "execution_count": 99,
   "outputs": [
    {
     "data": {
      "text/plain": "    Group 1  Group 2  Group 3  Group 1\n   Column 1 Column 2 Column 1 Column 2\ni1        1        2        3        4\ni2        1        2        3        4\ni3        1        2        3        4\ni4        1        2        3        4\ni6        1        2        3        4",
      "text/html": "<div>\n<style scoped>\n    .dataframe tbody tr th:only-of-type {\n        vertical-align: middle;\n    }\n\n    .dataframe tbody tr th {\n        vertical-align: top;\n    }\n\n    .dataframe thead tr th {\n        text-align: left;\n    }\n</style>\n<table border=\"1\" class=\"dataframe\">\n  <thead>\n    <tr>\n      <th></th>\n      <th>Group 1</th>\n      <th>Group 2</th>\n      <th>Group 3</th>\n      <th>Group 1</th>\n    </tr>\n    <tr>\n      <th></th>\n      <th>Column 1</th>\n      <th>Column 2</th>\n      <th>Column 1</th>\n      <th>Column 2</th>\n    </tr>\n  </thead>\n  <tbody>\n    <tr>\n      <th>i1</th>\n      <td>1</td>\n      <td>2</td>\n      <td>3</td>\n      <td>4</td>\n    </tr>\n    <tr>\n      <th>i2</th>\n      <td>1</td>\n      <td>2</td>\n      <td>3</td>\n      <td>4</td>\n    </tr>\n    <tr>\n      <th>i3</th>\n      <td>1</td>\n      <td>2</td>\n      <td>3</td>\n      <td>4</td>\n    </tr>\n    <tr>\n      <th>i4</th>\n      <td>1</td>\n      <td>2</td>\n      <td>3</td>\n      <td>4</td>\n    </tr>\n    <tr>\n      <th>i6</th>\n      <td>1</td>\n      <td>2</td>\n      <td>3</td>\n      <td>4</td>\n    </tr>\n  </tbody>\n</table>\n</div>"
     },
     "execution_count": 99,
     "metadata": {},
     "output_type": "execute_result"
    }
   ],
   "source": [
    "# Из списка кортежей\n",
    "pd.DataFrame(\n",
    "    {\n",
    "        ('Group 1', 'Column 1'): 1,\n",
    "        ('Group 2', 'Column 2'): 2,\n",
    "        ('Group 3', 'Column 1'): 3,\n",
    "        ('Group 1', 'Column 2'): 4,\n",
    "    },\n",
    "    index=['i1', 'i2', 'i3', 'i4', 'i6']\n",
    ")"
   ],
   "metadata": {
    "collapsed": false
   }
  },
  {
   "cell_type": "code",
   "execution_count": 133,
   "outputs": [
    {
     "data": {
      "text/plain": "           cGroup 1          cGroup 2 cGroup 3 cGroup 1\n           Column 1 Column 3 Column 2 Column 1 Column 2\niGroup1 i1      1.0      NaN      NaN      NaN      NaN\n        i2     11.0     55.0     22.0     33.0     44.0\niGroup3 i1      NaN      5.0      NaN      NaN      4.0\niGroup2 i1      NaN      NaN      NaN      3.0      NaN",
      "text/html": "<div>\n<style scoped>\n    .dataframe tbody tr th:only-of-type {\n        vertical-align: middle;\n    }\n\n    .dataframe tbody tr th {\n        vertical-align: top;\n    }\n\n    .dataframe thead tr th {\n        text-align: left;\n    }\n</style>\n<table border=\"1\" class=\"dataframe\">\n  <thead>\n    <tr>\n      <th></th>\n      <th></th>\n      <th colspan=\"2\" halign=\"left\">cGroup 1</th>\n      <th>cGroup 2</th>\n      <th>cGroup 3</th>\n      <th>cGroup 1</th>\n    </tr>\n    <tr>\n      <th></th>\n      <th></th>\n      <th>Column 1</th>\n      <th>Column 3</th>\n      <th>Column 2</th>\n      <th>Column 1</th>\n      <th>Column 2</th>\n    </tr>\n  </thead>\n  <tbody>\n    <tr>\n      <th rowspan=\"2\" valign=\"top\">iGroup1</th>\n      <th>i1</th>\n      <td>1.0</td>\n      <td>NaN</td>\n      <td>NaN</td>\n      <td>NaN</td>\n      <td>NaN</td>\n    </tr>\n    <tr>\n      <th>i2</th>\n      <td>11.0</td>\n      <td>55.0</td>\n      <td>22.0</td>\n      <td>33.0</td>\n      <td>44.0</td>\n    </tr>\n    <tr>\n      <th>iGroup3</th>\n      <th>i1</th>\n      <td>NaN</td>\n      <td>5.0</td>\n      <td>NaN</td>\n      <td>NaN</td>\n      <td>4.0</td>\n    </tr>\n    <tr>\n      <th>iGroup2</th>\n      <th>i1</th>\n      <td>NaN</td>\n      <td>NaN</td>\n      <td>NaN</td>\n      <td>3.0</td>\n      <td>NaN</td>\n    </tr>\n  </tbody>\n</table>\n</div>"
     },
     "execution_count": 133,
     "metadata": {},
     "output_type": "execute_result"
    }
   ],
   "source": [
    "# Из списка кортежей\n",
    "pd.DataFrame(\n",
    "    {\n",
    "        ('cGroup 1', 'Column 1'): {('iGroup1', 'i1'): 1, ('iGroup1', 'i2'): 11},\n",
    "        ('cGroup 1', 'Column 3'): {('iGroup3', 'i1'): 5, ('iGroup1', 'i2'): 55},\n",
    "        ('cGroup 2', 'Column 2'): {('iGroup1', 'i2'): 2, ('iGroup1', 'i2'): 22},\n",
    "        ('cGroup 3', 'Column 1'): {('iGroup2', 'i1'): 3, ('iGroup1', 'i2'): 33},\n",
    "        ('cGroup 1', 'Column 2'): {('iGroup3', 'i1'): 4, ('iGroup1', 'i2'): 44},\n",
    "    },\n",
    ")"
   ],
   "metadata": {
    "collapsed": false
   }
  },
  {
   "cell_type": "code",
   "execution_count": 114,
   "outputs": [
    {
     "data": {
      "text/plain": "       a              b           a\n       b    a    c    a     b     l\nA B  1.0  4.0  5.0  8.0  10.0  10.0\n  C  2.0  3.0  6.0  7.0   NaN   NaN\n  D  NaN  NaN  NaN  NaN   9.0   9.0",
      "text/html": "<div>\n<style scoped>\n    .dataframe tbody tr th:only-of-type {\n        vertical-align: middle;\n    }\n\n    .dataframe tbody tr th {\n        vertical-align: top;\n    }\n\n    .dataframe thead tr th {\n        text-align: left;\n    }\n</style>\n<table border=\"1\" class=\"dataframe\">\n  <thead>\n    <tr>\n      <th></th>\n      <th></th>\n      <th colspan=\"3\" halign=\"left\">a</th>\n      <th colspan=\"2\" halign=\"left\">b</th>\n      <th>a</th>\n    </tr>\n    <tr>\n      <th></th>\n      <th></th>\n      <th>b</th>\n      <th>a</th>\n      <th>c</th>\n      <th>a</th>\n      <th>b</th>\n      <th>l</th>\n    </tr>\n  </thead>\n  <tbody>\n    <tr>\n      <th rowspan=\"3\" valign=\"top\">A</th>\n      <th>B</th>\n      <td>1.0</td>\n      <td>4.0</td>\n      <td>5.0</td>\n      <td>8.0</td>\n      <td>10.0</td>\n      <td>10.0</td>\n    </tr>\n    <tr>\n      <th>C</th>\n      <td>2.0</td>\n      <td>3.0</td>\n      <td>6.0</td>\n      <td>7.0</td>\n      <td>NaN</td>\n      <td>NaN</td>\n    </tr>\n    <tr>\n      <th>D</th>\n      <td>NaN</td>\n      <td>NaN</td>\n      <td>NaN</td>\n      <td>NaN</td>\n      <td>9.0</td>\n      <td>9.0</td>\n    </tr>\n  </tbody>\n</table>\n</div>"
     },
     "execution_count": 114,
     "metadata": {},
     "output_type": "execute_result"
    }
   ],
   "source": [
    "pd.DataFrame(\n",
    "    {\n",
    "        (\"a\", \"b\"): {(\"A\", \"B\"): 1, (\"A\", \"C\"): 2},\n",
    "        (\"a\", \"a\"): {(\"A\", \"C\"): 3, (\"A\", \"B\"): 4},\n",
    "        (\"a\", \"c\"): {(\"A\", \"B\"): 5, (\"A\", \"C\"): 6},\n",
    "        (\"b\", \"a\"): {(\"A\", \"C\"): 7, (\"A\", \"B\"): 8},\n",
    "        (\"b\", \"b\"): {(\"A\", \"D\"): 9, (\"A\", \"B\"): 10},\n",
    "        (\"a\", \"l\"): {(\"A\", \"D\"): 9, (\"A\", \"B\"): 10},\n",
    "    }\n",
    ")"
   ],
   "metadata": {
    "collapsed": false
   }
  },
  {
   "cell_type": "code",
   "execution_count": 135,
   "outputs": [
    {
     "data": {
      "text/plain": "               x   y\nfirst point   10  12\nsecond point  20  30",
      "text/html": "<div>\n<style scoped>\n    .dataframe tbody tr th:only-of-type {\n        vertical-align: middle;\n    }\n\n    .dataframe tbody tr th {\n        vertical-align: top;\n    }\n\n    .dataframe thead th {\n        text-align: right;\n    }\n</style>\n<table border=\"1\" class=\"dataframe\">\n  <thead>\n    <tr style=\"text-align: right;\">\n      <th></th>\n      <th>x</th>\n      <th>y</th>\n    </tr>\n  </thead>\n  <tbody>\n    <tr>\n      <th>first point</th>\n      <td>10</td>\n      <td>12</td>\n    </tr>\n    <tr>\n      <th>second point</th>\n      <td>20</td>\n      <td>30</td>\n    </tr>\n  </tbody>\n</table>\n</div>"
     },
     "execution_count": 135,
     "metadata": {},
     "output_type": "execute_result"
    }
   ],
   "source": [
    "# Список именованных кортежей\n",
    "from collections import namedtuple\n",
    "Point = namedtuple(\"Point\", \"x y\")\n",
    "pd.DataFrame([Point(10, 12), Point(20, 30)], index=['first point', 'second point'])"
   ],
   "metadata": {
    "collapsed": false
   }
  },
  {
   "cell_type": "markdown",
   "source": [
    "При помощи методов columns, index можно получить названия колонок и индексов соответственно"
   ],
   "metadata": {
    "collapsed": false
   }
  },
  {
   "cell_type": "code",
   "execution_count": 62,
   "outputs": [
    {
     "name": "stdout",
     "output_type": "stream",
     "text": [
      "Index(['a', 'b', 'c', 'd', 'e'], dtype='object')\n",
      "Index(['a', 'b', 'c', 'd', 'e'], dtype='object')\n",
      "Index(['Column 1', 'Column 2'], dtype='object')\n"
     ]
    }
   ],
   "source": [
    "print(s1.index)\n",
    "print(s11.index)\n",
    "print(s11.columns)"
   ],
   "metadata": {
    "collapsed": false
   }
  },
  {
   "cell_type": "markdown",
   "source": [
    "# Alternate constructors"
   ],
   "metadata": {
    "collapsed": false
   }
  },
  {
   "cell_type": "markdown",
   "source": [
    "Можно создать через словари датасет так, чтобы ключ в словаре попал в индексы, а не в столбцы."
   ],
   "metadata": {
    "collapsed": false
   }
  },
  {
   "cell_type": "code",
   "execution_count": 139,
   "outputs": [
    {
     "data": {
      "text/plain": "   one  two  three\nA    1    2      3\nB    4    5      6",
      "text/html": "<div>\n<style scoped>\n    .dataframe tbody tr th:only-of-type {\n        vertical-align: middle;\n    }\n\n    .dataframe tbody tr th {\n        vertical-align: top;\n    }\n\n    .dataframe thead th {\n        text-align: right;\n    }\n</style>\n<table border=\"1\" class=\"dataframe\">\n  <thead>\n    <tr style=\"text-align: right;\">\n      <th></th>\n      <th>one</th>\n      <th>two</th>\n      <th>three</th>\n    </tr>\n  </thead>\n  <tbody>\n    <tr>\n      <th>A</th>\n      <td>1</td>\n      <td>2</td>\n      <td>3</td>\n    </tr>\n    <tr>\n      <th>B</th>\n      <td>4</td>\n      <td>5</td>\n      <td>6</td>\n    </tr>\n  </tbody>\n</table>\n</div>"
     },
     "execution_count": 139,
     "metadata": {},
     "output_type": "execute_result"
    }
   ],
   "source": [
    "pd.DataFrame.from_dict(\n",
    "    dict([(\"A\", [1, 2, 3]), (\"B\", [4, 5, 6])]),\n",
    "    orient=\"index\",\n",
    "    columns=[\"one\", \"two\", \"three\"],\n",
    ")"
   ],
   "metadata": {
    "collapsed": false
   }
  },
  {
   "cell_type": "markdown",
   "source": [
    "Еще можно создать датафрейм используя DataFrame.from_records(), тогда индексы могут быть специфичными полями."
   ],
   "metadata": {
    "collapsed": false
   }
  }
 ],
 "metadata": {
  "kernelspec": {
   "display_name": "Python 3",
   "language": "python",
   "name": "python3"
  },
  "language_info": {
   "codemirror_mode": {
    "name": "ipython",
    "version": 2
   },
   "file_extension": ".py",
   "mimetype": "text/x-python",
   "name": "python",
   "nbconvert_exporter": "python",
   "pygments_lexer": "ipython2",
   "version": "2.7.6"
  }
 },
 "nbformat": 4,
 "nbformat_minor": 0
}
